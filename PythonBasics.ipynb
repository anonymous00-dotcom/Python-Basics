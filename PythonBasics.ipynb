{
  "nbformat": 4,
  "nbformat_minor": 0,
  "metadata": {
    "colab": {
      "provenance": []
    },
    "kernelspec": {
      "name": "python3",
      "display_name": "Python 3"
    },
    "language_info": {
      "name": "python"
    }
  },
  "cells": [
    {
      "cell_type": "markdown",
      "source": [
        "#Basics of Python\n"
      ],
      "metadata": {
        "id": "5GluoAPI8xF_"
      }
    },
    {
      "cell_type": "markdown",
      "source": [
        "1.What is Python, and why is it popular?\n",
        "   - Python is a simple and powerful programming language used for making websites, analyzing data, and automating tasks. It is popular because it is easy to learn, has a huge community, and can be used for many things like AI, web development, and data science."
      ],
      "metadata": {
        "id": "PvvKuPO68539"
      }
    },
    {
      "cell_type": "markdown",
      "source": [
        "2.What is an interpreter in Python?\n",
        "  - An interpreter is a program that reads and runs Python code"
      ],
      "metadata": {
        "id": "8i_zcVQB-DTC"
      }
    },
    {
      "cell_type": "markdown",
      "source": [
        "3.What are pre-defined keywords in Python?\n",
        "   - Keywords are special words that have specific meanings and cannot be used as variable names.ex- if,for etc."
      ],
      "metadata": {
        "id": "R_bi2rncAOCy"
      }
    },
    {
      "cell_type": "markdown",
      "source": [
        "4.Can keywords be used as variable names?\n",
        "   - No, keywords cannot be used as variable names as they have special meanings in Python. For example, if = 10 is incorrect.\n",
        "\n"
      ],
      "metadata": {
        "id": "v9YNFzsaAs0g"
      }
    },
    {
      "cell_type": "markdown",
      "source": [
        "5.What is mutability in Python?\n",
        "   - Mutability means a value that we can change after it is created.If something is mutable, we can change it if it is immutable, we cannot.\n",
        "\n"
      ],
      "metadata": {
        "id": "qPY6q82aBGS5"
      }
    },
    {
      "cell_type": "markdown",
      "source": [
        "6.Why are lists mutable, but tuples are immutable?\n",
        "   - Lists can be changed after creation,so it is mutable but we cannot change the values of tuples after creating it so that's why it is immutable."
      ],
      "metadata": {
        "id": "GR6uZsVBBqbr"
      }
    },
    {
      "cell_type": "markdown",
      "source": [
        "7.What is the difference between == and is operators in Python?\n",
        "  -\n",
        "**==** checks if values are the same.\n",
        "**is** checks if they are the same object in memory."
      ],
      "metadata": {
        "id": "BQBExjT8CSw8"
      }
    },
    {
      "cell_type": "code",
      "source": [
        "a = [1, 2, 3]\n",
        "b = [1, 2, 3]\n",
        "print(a == b)  # True (values are same)\n",
        "print(a is b)  # False (different objects)"
      ],
      "metadata": {
        "colab": {
          "base_uri": "https://localhost:8080/"
        },
        "id": "vL0nAGCwC7W7",
        "outputId": "cef50868-2a75-4270-ed40-2b95be5f7bc1"
      },
      "execution_count": null,
      "outputs": [
        {
          "output_type": "stream",
          "name": "stdout",
          "text": [
            "True\n",
            "False\n"
          ]
        }
      ]
    },
    {
      "cell_type": "markdown",
      "source": [
        "8.What are logical operators in Python?\n",
        "  - Logical operators are used to combine or modify boolean expressions (True or False). There are three main logical operators: and, or, and not.\n",
        "\n",
        "\n",
        "*   and (both conditions must be true)\n",
        "*   or (at least one condition must be true)\n",
        "*   not (reverse the condition)"
      ],
      "metadata": {
        "id": "uBFbW3iNC5C8"
      }
    },
    {
      "cell_type": "code",
      "source": [
        "a = 5\n",
        "b = 10\n",
        "print(a > 0 and b > 0)\n",
        "print(a > 10 or b > 0)\n",
        "print(not (a > 10))\n"
      ],
      "metadata": {
        "colab": {
          "base_uri": "https://localhost:8080/"
        },
        "id": "rpvF6KCWESyU",
        "outputId": "c83930eb-4e11-4ba4-d413-9dbaf060f887"
      },
      "execution_count": null,
      "outputs": [
        {
          "output_type": "stream",
          "name": "stdout",
          "text": [
            "True\n",
            "True\n",
            "True\n"
          ]
        }
      ]
    },
    {
      "cell_type": "markdown",
      "source": [
        "9.What is type casting in Python?\n",
        "  - Type casting means changes data types of varaibles like, converting a string \"10\" into an integer 10."
      ],
      "metadata": {
        "id": "xsSRXNqBE79V"
      }
    },
    {
      "cell_type": "markdown",
      "source": [
        "10.What is the difference between implicit and explicit type casting?\n",
        "\n",
        "  - Implicit casting: Python automaticall\n",
        "converts data types (ex- int to float).\n",
        "\n",
        "  - Explicit casting: We manually change the data type using int(), float(), etc."
      ],
      "metadata": {
        "id": "jaepvCwRGRgL"
      }
    },
    {
      "cell_type": "code",
      "source": [
        "a = 5   # Integer\n",
        "b = 2.5 # Float\n",
        "c = a + b  # Implicit casting to float\n",
        "d = int(b)  # Explicit casting to integer\n",
        "print(c, d)"
      ],
      "metadata": {
        "colab": {
          "base_uri": "https://localhost:8080/"
        },
        "id": "cE-uUvGzIYZS",
        "outputId": "0f1a52a9-f660-4116-f90d-6def7abae44f"
      },
      "execution_count": null,
      "outputs": [
        {
          "output_type": "stream",
          "name": "stdout",
          "text": [
            "7.5 2\n"
          ]
        }
      ]
    },
    {
      "cell_type": "markdown",
      "source": [
        "11.What is the purpose of conditional statements in Python?\n",
        "  - Conditional statements (if, elif, else) help making decisions or create conditions in a program.\n",
        "\n"
      ],
      "metadata": {
        "id": "7HJkwtPgIaD7"
      }
    },
    {
      "cell_type": "markdown",
      "source": [
        "12.How does the elif statement work?\n",
        "  - elif checks another condition if the first one is false."
      ],
      "metadata": {
        "id": "1OkDXF6eIyej"
      }
    },
    {
      "cell_type": "code",
      "source": [
        "age = 20\n",
        "if age < 18:\n",
        "    print(\"Minor\")\n",
        "elif age < 60:\n",
        "    print(\"Adult\")\n",
        "else:\n",
        "    print(\"Senior\")\n"
      ],
      "metadata": {
        "colab": {
          "base_uri": "https://localhost:8080/"
        },
        "id": "dG9hSQgBJQLF",
        "outputId": "c5f6e5fb-84ef-4078-e222-86734338b8d7"
      },
      "execution_count": null,
      "outputs": [
        {
          "output_type": "stream",
          "name": "stdout",
          "text": [
            "Adult\n"
          ]
        }
      ]
    },
    {
      "cell_type": "markdown",
      "source": [
        "13.What is the difference between for and while loops?\n",
        "  - For loop: Used when we know how many times we need to repeat.\n",
        "  - While loop: Used when we repeat until a condition is false."
      ],
      "metadata": {
        "id": "P70WzpaAJXjR"
      }
    },
    {
      "cell_type": "markdown",
      "source": [
        "14.Describe a scenario where a while loop is more suitable than a for loop.\n",
        "  - When we don’t know how many times we need to repeat, like waiting for a user to enter a correct password."
      ],
      "metadata": {
        "id": "a-UIsfPTJ_1P"
      }
    },
    {
      "cell_type": "markdown",
      "source": [
        "15.Write a Python program to print \"Hello, World!\""
      ],
      "metadata": {
        "id": "HuCMWaYEKLzl"
      }
    },
    {
      "cell_type": "code",
      "source": [
        "print(\"Hello, World!\")\n"
      ],
      "metadata": {
        "colab": {
          "base_uri": "https://localhost:8080/"
        },
        "id": "KmrCI7ttsJXE",
        "outputId": "2deea5d4-af4f-4c6d-f143-04d6cd9e99f0"
      },
      "execution_count": 1,
      "outputs": [
        {
          "output_type": "stream",
          "name": "stdout",
          "text": [
            "Hello, World!\n"
          ]
        }
      ]
    },
    {
      "cell_type": "markdown",
      "source": [
        "16.Write a Python program that displays your name and age."
      ],
      "metadata": {
        "id": "SZ86gyB0soxz"
      }
    },
    {
      "cell_type": "code",
      "source": [
        "name = \"Suvrodip\"\n",
        "age = 22\n",
        "print(\"Name:\", name)\n",
        "print(\"Age\", age)"
      ],
      "metadata": {
        "colab": {
          "base_uri": "https://localhost:8080/"
        },
        "id": "Xpi6GwZqssW7",
        "outputId": "b4976a05-7315-4545-f9cb-341c3d15e4f8"
      },
      "execution_count": 4,
      "outputs": [
        {
          "output_type": "stream",
          "name": "stdout",
          "text": [
            "Name: Suvrodip\n",
            "Age 22\n"
          ]
        }
      ]
    },
    {
      "cell_type": "markdown",
      "source": [
        "17.Write code to print all pre-defined keywords in Python using the keyword library."
      ],
      "metadata": {
        "id": "abWX-R5AsSE7"
      }
    },
    {
      "cell_type": "code",
      "source": [
        "import keyword\n",
        "print(keyword.kwlist)"
      ],
      "metadata": {
        "colab": {
          "base_uri": "https://localhost:8080/"
        },
        "id": "14BGKVNxsWpS",
        "outputId": "c6f9cbca-57d9-4613-8781-92e2e005ad1c"
      },
      "execution_count": 3,
      "outputs": [
        {
          "output_type": "stream",
          "name": "stdout",
          "text": [
            "['False', 'None', 'True', 'and', 'as', 'assert', 'async', 'await', 'break', 'class', 'continue', 'def', 'del', 'elif', 'else', 'except', 'finally', 'for', 'from', 'global', 'if', 'import', 'in', 'is', 'lambda', 'nonlocal', 'not', 'or', 'pass', 'raise', 'return', 'try', 'while', 'with', 'yield']\n"
          ]
        }
      ]
    },
    {
      "cell_type": "markdown",
      "source": [
        "18.Write a program that checks if a given word is a Python keyword."
      ],
      "metadata": {
        "id": "_L3nHZeSsgz-"
      }
    },
    {
      "cell_type": "code",
      "source": [
        "import keyword\n",
        "word = input(\"Enter a word: \")\n",
        "print(word, \"is a keyword\" if keyword.iskeyword(word) else \"is not a keyword\")"
      ],
      "metadata": {
        "colab": {
          "base_uri": "https://localhost:8080/"
        },
        "id": "7K_Mwdr5tcGp",
        "outputId": "21ebf6bd-142f-4523-d0f8-15840a48f5ed"
      },
      "execution_count": 5,
      "outputs": [
        {
          "output_type": "stream",
          "name": "stdout",
          "text": [
            "Enter a word: for\n",
            "for is a keyword\n"
          ]
        }
      ]
    },
    {
      "cell_type": "markdown",
      "source": [
        "19.Create a list and tuple in Python, and demonstrate mutability."
      ],
      "metadata": {
        "id": "mNR_zlM9tlHX"
      }
    },
    {
      "cell_type": "code",
      "source": [
        "#list\n",
        "list1 = [1,2,3]\n",
        "print(list1)\n",
        "\n",
        "list1[0] = 5\n",
        "print(list1)"
      ],
      "metadata": {
        "colab": {
          "base_uri": "https://localhost:8080/"
        },
        "id": "-RgGw71stqWl",
        "outputId": "2d368932-d611-4b9e-e95e-14974ffd6a1f"
      },
      "execution_count": 8,
      "outputs": [
        {
          "output_type": "stream",
          "name": "stdout",
          "text": [
            "[1, 2, 3]\n",
            "[5, 2, 3]\n"
          ]
        }
      ]
    },
    {
      "cell_type": "code",
      "source": [
        "#tuple\n",
        "tuple1 = (1,2,3)\n",
        "print(tuple1)\n",
        "\n",
        "tuple1[0] = 5 #Error\n",
        "print(tuple1)"
      ],
      "metadata": {
        "colab": {
          "base_uri": "https://localhost:8080/",
          "height": 228
        },
        "id": "Vb-5aAwSuUlO",
        "outputId": "5af2bcc1-8b0e-4246-fed8-46428747e8a2"
      },
      "execution_count": 9,
      "outputs": [
        {
          "output_type": "stream",
          "name": "stdout",
          "text": [
            "(1, 2, 3)\n"
          ]
        },
        {
          "output_type": "error",
          "ename": "TypeError",
          "evalue": "'tuple' object does not support item assignment",
          "traceback": [
            "\u001b[0;31m---------------------------------------------------------------------------\u001b[0m",
            "\u001b[0;31mTypeError\u001b[0m                                 Traceback (most recent call last)",
            "\u001b[0;32m<ipython-input-9-fab52f30c8d9>\u001b[0m in \u001b[0;36m<cell line: 0>\u001b[0;34m()\u001b[0m\n\u001b[1;32m      3\u001b[0m \u001b[0mprint\u001b[0m\u001b[0;34m(\u001b[0m\u001b[0mtuple1\u001b[0m\u001b[0;34m)\u001b[0m\u001b[0;34m\u001b[0m\u001b[0;34m\u001b[0m\u001b[0m\n\u001b[1;32m      4\u001b[0m \u001b[0;34m\u001b[0m\u001b[0m\n\u001b[0;32m----> 5\u001b[0;31m \u001b[0mtuple1\u001b[0m\u001b[0;34m[\u001b[0m\u001b[0;36m0\u001b[0m\u001b[0;34m]\u001b[0m \u001b[0;34m=\u001b[0m \u001b[0;36m5\u001b[0m\u001b[0;34m\u001b[0m\u001b[0;34m\u001b[0m\u001b[0m\n\u001b[0m\u001b[1;32m      6\u001b[0m \u001b[0mprint\u001b[0m\u001b[0;34m(\u001b[0m\u001b[0mtuple1\u001b[0m\u001b[0;34m)\u001b[0m\u001b[0;34m\u001b[0m\u001b[0;34m\u001b[0m\u001b[0m\n\u001b[1;32m      7\u001b[0m \u001b[0;34m\u001b[0m\u001b[0m\n",
            "\u001b[0;31mTypeError\u001b[0m: 'tuple' object does not support item assignment"
          ]
        }
      ]
    },
    {
      "cell_type": "markdown",
      "source": [
        "20.Write a function to demonstrate mutable and immutable arguments."
      ],
      "metadata": {
        "id": "9P9MKBepuxoa"
      }
    },
    {
      "cell_type": "code",
      "source": [],
      "metadata": {
        "id": "G6M95Apex700"
      },
      "execution_count": null,
      "outputs": []
    },
    {
      "cell_type": "markdown",
      "source": [
        "21.Write a program to demonstrate logical operators."
      ],
      "metadata": {
        "id": "2_HnI8SCx8aj"
      }
    },
    {
      "cell_type": "code",
      "source": [
        "a = 5\n",
        "b = 10\n",
        "print(a > 0 and b > 0)\n",
        "print(a > 10 or b > 0)\n",
        "print(not (a > 10))\n"
      ],
      "metadata": {
        "colab": {
          "base_uri": "https://localhost:8080/"
        },
        "id": "3veFfhFVyHSN",
        "outputId": "f2f5d091-8175-4724-89bd-7f28c8de27bc"
      },
      "execution_count": 10,
      "outputs": [
        {
          "output_type": "stream",
          "name": "stdout",
          "text": [
            "True\n",
            "True\n",
            "True\n"
          ]
        }
      ]
    },
    {
      "cell_type": "markdown",
      "source": [
        "22.Convert user input from string to int, float, and boolean."
      ],
      "metadata": {
        "id": "EHchLkch0e_y"
      }
    },
    {
      "cell_type": "code",
      "source": [
        "user_input = input(\"Enter a number: \")\n",
        "print(int(user_input), float(user_input), bool(user_input))"
      ],
      "metadata": {
        "colab": {
          "base_uri": "https://localhost:8080/"
        },
        "id": "Nlg6RYVZ0j1A",
        "outputId": "36f42c12-b1ed-4091-dda4-93454a97cd58"
      },
      "execution_count": 12,
      "outputs": [
        {
          "output_type": "stream",
          "name": "stdout",
          "text": [
            "Enter a number: 5\n",
            "5 5.0 True\n"
          ]
        }
      ]
    },
    {
      "cell_type": "markdown",
      "source": [
        "23.Write code to demonstrate type casting with list elements.\n"
      ],
      "metadata": {
        "id": "-rC-5HuF0054"
      }
    },
    {
      "cell_type": "code",
      "source": [
        "numbers = [\"1\", \"2\", \"3\"]\n",
        "int_numbers = [int(num) for num in numbers]\n",
        "print(int_numbers)"
      ],
      "metadata": {
        "colab": {
          "base_uri": "https://localhost:8080/"
        },
        "id": "q4PJ3Lf70-rs",
        "outputId": "7e1d971a-f788-41d3-8da0-e4b4d921599a"
      },
      "execution_count": 13,
      "outputs": [
        {
          "output_type": "stream",
          "name": "stdout",
          "text": [
            "[1, 2, 3]\n"
          ]
        }
      ]
    },
    {
      "cell_type": "markdown",
      "source": [
        "24.Write a program that checks if a number is positive, negative, or zero."
      ],
      "metadata": {
        "id": "bg0xORAa1HhW"
      }
    },
    {
      "cell_type": "code",
      "source": [
        "num = int(input(\"Enter a number: \"))\n",
        "if num > 0:\n",
        "    print(\"Positive\")\n",
        "elif num < 0:\n",
        "    print(\"Negative\")\n",
        "else:\n",
        "    print(\"Zero\")"
      ],
      "metadata": {
        "colab": {
          "base_uri": "https://localhost:8080/"
        },
        "id": "j0SyuB_J1MSm",
        "outputId": "d04cc0fa-32d4-4f25-d2d3-06d61f9f5deb"
      },
      "execution_count": 14,
      "outputs": [
        {
          "output_type": "stream",
          "name": "stdout",
          "text": [
            "Enter a number: -5\n",
            "Negative\n"
          ]
        }
      ]
    },
    {
      "cell_type": "markdown",
      "source": [
        "25.Write a for loop to print numbers from 1 to 10."
      ],
      "metadata": {
        "id": "JLOPwlV-1V_h"
      }
    },
    {
      "cell_type": "code",
      "source": [
        "for i in range(1, 11):\n",
        "    print(i)"
      ],
      "metadata": {
        "colab": {
          "base_uri": "https://localhost:8080/"
        },
        "id": "LufqPdZl1ctQ",
        "outputId": "2c557113-385e-4384-fc70-b37d1b421078"
      },
      "execution_count": 15,
      "outputs": [
        {
          "output_type": "stream",
          "name": "stdout",
          "text": [
            "1\n",
            "2\n",
            "3\n",
            "4\n",
            "5\n",
            "6\n",
            "7\n",
            "8\n",
            "9\n",
            "10\n"
          ]
        }
      ]
    },
    {
      "cell_type": "markdown",
      "source": [
        "26.Find the sum of all even numbers between 1 and 50.\n"
      ],
      "metadata": {
        "id": "EWwv8e-S1iLq"
      }
    },
    {
      "cell_type": "code",
      "source": [
        "print(sum([i for i in range(1, 51) if i % 2 == 0]))\n"
      ],
      "metadata": {
        "colab": {
          "base_uri": "https://localhost:8080/"
        },
        "id": "QHZiSmHc1v_g",
        "outputId": "165c31b5-ea07-4ee2-82d2-bb5472cd3f2a"
      },
      "execution_count": 16,
      "outputs": [
        {
          "output_type": "stream",
          "name": "stdout",
          "text": [
            "650\n"
          ]
        }
      ]
    },
    {
      "cell_type": "markdown",
      "source": [
        "27.Reverse a string using a while loop."
      ],
      "metadata": {
        "id": "CWocHEbJ12G3"
      }
    },
    {
      "cell_type": "markdown",
      "source": [
        "28.Calculate the factorial of a number using a while loop."
      ],
      "metadata": {
        "id": "f4oUi7U_2G-b"
      }
    },
    {
      "cell_type": "code",
      "source": [
        "num = int(input(\"Enter a number: \"))\n",
        "fact = 1\n",
        "while num > 1:\n",
        "    fact *= num\n",
        "    num -= 1\n",
        "print(\"Factorial:\", fact)"
      ],
      "metadata": {
        "colab": {
          "base_uri": "https://localhost:8080/"
        },
        "id": "cPNK3sJl2Kla",
        "outputId": "4452ee89-6c75-4ceb-dd2a-72ddbba1b5be"
      },
      "execution_count": 17,
      "outputs": [
        {
          "output_type": "stream",
          "name": "stdout",
          "text": [
            "Enter a number: 45\n",
            "Factorial: 119622220865480194561963161495657715064383733760000000000\n"
          ]
        }
      ]
    }
  ]
}